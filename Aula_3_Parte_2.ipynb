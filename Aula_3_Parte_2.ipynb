{
 "cells": [
  {
   "cell_type": "markdown",
   "metadata": {},
   "source": [
    "# Aula 3 (Parte 2) - Eliminação Gaussiana"
   ]
  },
  {
   "cell_type": "markdown",
   "metadata": {},
   "source": [
    "### BLAS - Basic Linear Algebra Subroutines\n",
    "$$ αx, x+y, x^Ty = <x,y> $$\n",
    "$$ Ax, Lx=b, Ux=b $$\n",
    "$$ L^{-1}b, U^{-1}b $$"
   ]
  },
  {
   "cell_type": "markdown",
   "metadata": {},
   "source": [
    "### 3 níveis de operações\n",
    "\n",
    "$$ z = αx + y => z_{i} = αx_{i} + y_{i} $$\n",
    "<div align = \"center\"> <b>Custo:</b> n * e n + = 2n </div>\n",
    "$$ β = x^Ty => β = \\sum_{i=1}^{n}x_{i}y_{i} $$\n",
    "<div align = \"center\"> <b>Custo:</b> n * e n-1 + = 2n-1 </div>\n",
    "<br>\n",
    "Operações lineares, <b>O(n) ≤ Cn</b>, BLAS nível 1\n",
    "\n",
    "========================================================================================================================\n",
    "\n",
    "$$ y = Ax => y_{i} = \\sum_{j=1}^{n}2ij = (a_{i}.)^Tx_{j} $$\n",
    "Operações quadráticas, <b>(2n - 1)m = 2mn - m</b>, BLAS nível 2\n",
    "\n",
    "========================================================================================================================\n",
    "\n",
    "$$ L = \\begin{bmatrix} \n",
    "    l_{11} & 0 & 0 \\\\\n",
    "    \\vdots & \\ddots & 0\\\\\n",
    "    l_{n1} & \\dots & l_{nn} \n",
    "    \\end{bmatrix} ,\n",
    "    U = \\begin{bmatrix} \n",
    "    u_{11} & u_{12} & \\dots \\\\\n",
    "    0 & \\ddots & \\vdots\\\\\n",
    "    0 & 0 & u_{nn} \n",
    "    \\end{bmatrix}$$\n",
    "BLAS nível 2\n",
    "\n",
    "========================================================================================================================\n",
    "\n",
    "$$ C = AB, A\\in R^{mxn}, B\\in R^{nxp} $$\n",
    "$$ C \\in R^{mxp} $$\n",
    "$$ c_{ij} = \\sum_{k=1}^{n}a_{ik}b_{kj} $$\n",
    "<b>mpO(n) = O(mpn)</b>, BLAS nível 3"
   ]
  },
  {
   "cell_type": "code",
   "execution_count": 2,
   "metadata": {},
   "outputs": [
    {
     "data": {
      "text/plain": [
       "3×4 Array{Float64,2}:\n",
       " 1.04364   0.940909  1.07188   1.08917\n",
       " 0.738065  0.575652  0.784234  0.29438\n",
       " 1.4533    1.18482   0.825507  1.08822"
      ]
     },
     "execution_count": 2,
     "metadata": {},
     "output_type": "execute_result"
    }
   ],
   "source": [
    "A = rand(3, 5)\n",
    "B = rand(5, 4)\n",
    "A * B"
   ]
  },
  {
   "cell_type": "code",
   "execution_count": 3,
   "metadata": {},
   "outputs": [
    {
     "data": {
      "text/plain": [
       "3×4 Array{Float64,2}:\n",
       " 1.04364   0.940909  1.07188   1.08917\n",
       " 0.738065  0.575652  0.784234  0.29438\n",
       " 1.4533    1.18482   0.825507  1.08822"
      ]
     },
     "execution_count": 3,
     "metadata": {},
     "output_type": "execute_result"
    }
   ],
   "source": [
    "C = zeros(3, 4)\n",
    "for i = 1:3, j = 1:4\n",
    "    C[i, j] = sum(A[i, k] * B[k, j] for k = 1:5)\n",
    "end\n",
    "C"
   ]
  },
  {
   "cell_type": "markdown",
   "metadata": {},
   "source": [
    "### Esparsidade de Matrizes\n",
    "\n",
    "$$  \\begin{bmatrix} \n",
    "    2 & -1 & & & & 0 \\\\\n",
    "    -1 & 2 & -1 & & &\\\\\n",
    "     & -1 & 2 & -1 & &\\\\\n",
    "     & & \\ddots & \\ddots & \\ddots\\\\ \n",
    "     & & & \\ddots & \\ddots & -1\\\\ \n",
    "     0 & & & & -1 & 2\n",
    "    \\end{bmatrix}_{nxn}\n",
    "    \\begin{bmatrix}\n",
    "    x_{1}\\\\ \\vdots\\\\ \\vdots\\\\ \n",
    "    \\vdots\\\\ \\vdots\\\\ x_{n}\n",
    "    \\end{bmatrix} = \\dots $$\n",
    "\n",
    "Número de não zeros (nnz) = <b>n + 2(n - 1) = 3n - 2</b>"
   ]
  },
  {
   "cell_type": "code",
   "execution_count": 7,
   "metadata": {},
   "outputs": [
    {
     "data": {
      "text/plain": [
       "(2.2888031005859375, 76293.9453125)"
      ]
     },
     "execution_count": 7,
     "metadata": {},
     "output_type": "execute_result"
    }
   ],
   "source": [
    "n = 100000\n",
    "Float64.size * (3n - 2) / 1024 / 1024, Float64.size * n^2 / 1024 / 1024"
   ]
  },
  {
   "cell_type": "code",
   "execution_count": 8,
   "metadata": {},
   "outputs": [
    {
     "name": "stderr",
     "output_type": "stream",
     "text": [
      "\u001b[32m\u001b[1m   Updating\u001b[22m\u001b[39m registry at `C:\\Users\\rodri\\.julia\\registries\\General`\n",
      "\u001b[32m\u001b[1m   Updating\u001b[22m\u001b[39m registry at `C:\\Users\\rodri\\.julia\\registries\\JuliaComputingRegistry`\n",
      "\u001b[32m\u001b[1m  Resolving\u001b[22m\u001b[39m package versions...\n",
      "\u001b[32m\u001b[1m  Installed\u001b[22m\u001b[39m BenchmarkTools ─ v0.5.0\n",
      "\u001b[32m\u001b[1mUpdating\u001b[22m\u001b[39m `C:\\Users\\rodri\\.julia\\environments\\JuliaPro_v1.5.3-1\\Project.toml`\n",
      " \u001b[90m [6e4b80f9] \u001b[39m\u001b[92m+ BenchmarkTools v0.5.0\u001b[39m\n",
      "\u001b[32m\u001b[1mUpdating\u001b[22m\u001b[39m `C:\\Users\\rodri\\.julia\\environments\\JuliaPro_v1.5.3-1\\Manifest.toml`\n",
      " \u001b[90m [6e4b80f9] \u001b[39m\u001b[92m+ BenchmarkTools v0.5.0\u001b[39m\n"
     ]
    }
   ],
   "source": [
    "using Pkg\n",
    "pkg\"add BenchmarkTools\""
   ]
  },
  {
   "cell_type": "code",
   "execution_count": 9,
   "metadata": {},
   "outputs": [
    {
     "name": "stderr",
     "output_type": "stream",
     "text": [
      "┌ Info: Precompiling BenchmarkTools [6e4b80f9-dd63-53aa-95a3-0cdb28fa8baf]\n",
      "└ @ Base loading.jl:1278\n"
     ]
    }
   ],
   "source": [
    "using BenchmarkTools"
   ]
  },
  {
   "cell_type": "code",
   "execution_count": 11,
   "metadata": {},
   "outputs": [
    {
     "data": {
      "text/plain": [
       "multAx2 (generic function with 1 method)"
      ]
     },
     "execution_count": 11,
     "metadata": {},
     "output_type": "execute_result"
    }
   ],
   "source": [
    "function multAx1(y, A, x)\n",
    "    m, n = size(A)\n",
    "    for i = 1:m\n",
    "        y[i] = 0.0\n",
    "        for j = 1:n\n",
    "            y[i] += A[i,j] * x[j]\n",
    "        end\n",
    "    end\n",
    "end\n",
    "\n",
    "function multAx2(y, A, x)\n",
    "    m, n = size(A)\n",
    "    for i = 1:m\n",
    "        y[i] = 0.0\n",
    "    end\n",
    "    for j = 1:n\n",
    "        for i = 1:m\n",
    "            y[i] += A[i, j] * x[j]\n",
    "        end\n",
    "    end\n",
    "end"
   ]
  },
  {
   "cell_type": "code",
   "execution_count": 12,
   "metadata": {},
   "outputs": [],
   "source": [
    "n = 1000\n",
    "A = rand(n, n)\n",
    "x = rand(n)\n",
    "x = rand(n);"
   ]
  },
  {
   "cell_type": "code",
   "execution_count": 14,
   "metadata": {},
   "outputs": [
    {
     "data": {
      "text/plain": [
       "true"
      ]
     },
     "execution_count": 14,
     "metadata": {},
     "output_type": "execute_result"
    }
   ],
   "source": [
    "y1 = zeros(n)\n",
    "y2 = zeros(n)\n",
    "multAx1(y1, A, x)\n",
    "multAx2(y2, A, x)\n",
    "y1 ≈ y2 ≈ A * x # provando que y1, y2 e A*x são aproximadamente, para poder comparar as duas funções"
   ]
  },
  {
   "cell_type": "code",
   "execution_count": 15,
   "metadata": {},
   "outputs": [
    {
     "data": {
      "text/plain": [
       "BenchmarkTools.Trial: \n",
       "  memory estimate:  0 bytes\n",
       "  allocs estimate:  0\n",
       "  --------------\n",
       "  minimum time:     1.506 ms (0.00% GC)\n",
       "  median time:      1.622 ms (0.00% GC)\n",
       "  mean time:        1.712 ms (0.00% GC)\n",
       "  maximum time:     3.990 ms (0.00% GC)\n",
       "  --------------\n",
       "  samples:          2919\n",
       "  evals/sample:     1"
      ]
     },
     "execution_count": 15,
     "metadata": {},
     "output_type": "execute_result"
    }
   ],
   "source": [
    "y = zeros(n)\n",
    "@benchmark multAx1(y, $A, $x)"
   ]
  },
  {
   "cell_type": "code",
   "execution_count": 17,
   "metadata": {},
   "outputs": [
    {
     "data": {
      "text/plain": [
       "BenchmarkTools.Trial: \n",
       "  memory estimate:  0 bytes\n",
       "  allocs estimate:  0\n",
       "  --------------\n",
       "  minimum time:     702.500 μs (0.00% GC)\n",
       "  median time:      727.499 μs (0.00% GC)\n",
       "  mean time:        742.714 μs (0.00% GC)\n",
       "  maximum time:     4.265 ms (0.00% GC)\n",
       "  --------------\n",
       "  samples:          6727\n",
       "  evals/sample:     1"
      ]
     },
     "execution_count": 17,
     "metadata": {},
     "output_type": "execute_result"
    }
   ],
   "source": [
    "y = zeros(n)\n",
    "@benchmark multAx2(y, $A, $x) \n",
    "# Essa maneira foi mais rápida que a anterior, por conseguir acessar os elementos do vetor numa ordem preferível"
   ]
  },
  {
   "cell_type": "code",
   "execution_count": 19,
   "metadata": {},
   "outputs": [
    {
     "name": "stderr",
     "output_type": "stream",
     "text": [
      "\u001b[32m\u001b[1m  Resolving\u001b[22m\u001b[39m package versions...\n",
      "\u001b[32m\u001b[1mNo Changes\u001b[22m\u001b[39m to `C:\\Users\\rodri\\.julia\\environments\\JuliaPro_v1.5.3-1\\Project.toml`\n",
      "\u001b[32m\u001b[1mNo Changes\u001b[22m\u001b[39m to `C:\\Users\\rodri\\.julia\\environments\\JuliaPro_v1.5.3-1\\Manifest.toml`\n"
     ]
    }
   ],
   "source": [
    "pkg\"add SparseArrays\""
   ]
  },
  {
   "cell_type": "code",
   "execution_count": 20,
   "metadata": {},
   "outputs": [],
   "source": [
    "using SparseArrays"
   ]
  },
  {
   "cell_type": "code",
   "execution_count": 21,
   "metadata": {},
   "outputs": [
    {
     "data": {
      "text/plain": [
       "10×10 SparseMatrixCSC{Float64,Int64} with 33 stored entries:\n",
       "  [1 ,  1]  =  0.565155\n",
       "  [7 ,  1]  =  0.428156\n",
       "  [7 ,  2]  =  0.74719\n",
       "  [8 ,  2]  =  0.241782\n",
       "  [10,  2]  =  0.830831\n",
       "  [1 ,  3]  =  0.418315\n",
       "  [3 ,  3]  =  0.234554\n",
       "  [7 ,  3]  =  0.0694216\n",
       "  [9 ,  3]  =  0.568618\n",
       "  [2 ,  4]  =  0.142559\n",
       "  [3 ,  4]  =  0.834241\n",
       "  [7 ,  4]  =  0.252775\n",
       "  ⋮\n",
       "  [8 ,  6]  =  0.696957\n",
       "  [9 ,  6]  =  0.480471\n",
       "  [10,  6]  =  0.379286\n",
       "  [2 ,  7]  =  0.95539\n",
       "  [9 ,  7]  =  0.983426\n",
       "  [8 ,  8]  =  0.293096\n",
       "  [6 ,  9]  =  0.860879\n",
       "  [7 ,  9]  =  0.604503\n",
       "  [9 ,  9]  =  0.907543\n",
       "  [10,  9]  =  0.119829\n",
       "  [3 , 10]  =  0.280014\n",
       "  [6 , 10]  =  0.108418\n",
       "  [8 , 10]  =  0.538494"
      ]
     },
     "execution_count": 21,
     "metadata": {},
     "output_type": "execute_result"
    }
   ],
   "source": [
    "A = sprand(10, 10, 0.3)"
   ]
  },
  {
   "cell_type": "code",
   "execution_count": 22,
   "metadata": {},
   "outputs": [
    {
     "data": {
      "text/plain": [
       "([1, 7, 7, 8, 10, 1, 3, 7, 9, 2  …  2, 9, 8, 6, 7, 9, 10, 3, 6, 8], [1, 1, 2, 2, 2, 3, 3, 3, 3, 4  …  7, 7, 8, 9, 9, 9, 9, 10, 10, 10], [0.5651550316590224, 0.428155862882325, 0.7471899736276217, 0.24178165837320553, 0.830830916863943, 0.4183151471416675, 0.23455364075445395, 0.0694216498013982, 0.5686184565745291, 0.14255865249758637  …  0.9553896799217285, 0.9834263289721739, 0.2930961000168908, 0.860878617480991, 0.604503085254674, 0.9075428658930433, 0.11982878272162667, 0.2800140813748049, 0.10841808582605528, 0.5384938790075391])"
      ]
     },
     "execution_count": 22,
     "metadata": {},
     "output_type": "execute_result"
    }
   ],
   "source": [
    "rows, cols, vals = findnz(A)"
   ]
  },
  {
   "cell_type": "markdown",
   "metadata": {},
   "source": [
    "## Sistemas Lineares"
   ]
  },
  {
   "cell_type": "code",
   "execution_count": 23,
   "metadata": {
    "scrolled": true
   },
   "outputs": [
    {
     "data": {
      "text/plain": [
       "3-element Array{Float64,1}:\n",
       " 2.052806454116383\n",
       " 1.3488229922393933\n",
       " 1.3512147111625987"
      ]
     },
     "execution_count": 23,
     "metadata": {},
     "output_type": "execute_result"
    }
   ],
   "source": [
    "# Maneira de gerar problemas\n",
    "A = rand(3, 3)\n",
    "b = A * ones(3)"
   ]
  },
  {
   "cell_type": "code",
   "execution_count": 24,
   "metadata": {},
   "outputs": [
    {
     "data": {
      "text/plain": [
       "3-element Array{Float64,1}:\n",
       " 1.0\n",
       " 0.9999999999999999\n",
       " 1.0000000000000004"
      ]
     },
     "execution_count": 24,
     "metadata": {},
     "output_type": "execute_result"
    }
   ],
   "source": [
    "A \\ b # Resolve Ax = b"
   ]
  },
  {
   "cell_type": "markdown",
   "metadata": {},
   "source": [
    "$$ \\begin{cases} \n",
    "3x_{1} + x_{2} + 2x_{3} = 6 \\\\ \n",
    "-x_{1} + 2x_{2} + x_{3} = 2 \\\\ \n",
    "x_{1} + x_{2} + 4x_{3} = 6\n",
    "\\end{cases} $$\n",
    "<br>\n",
    "$$ L_{2} \\leftarrow L_{2} + \\frac{1}{3}L_{1} = L_{2} - \\frac{(-1)}{3}L_{1} $$\n",
    "$$ L_{2} = (-1, 2, 1; 2) ; L_{1} = (3, 1, 2; 6) $$\n",
    "$$ L_{2} = L_{2} + \\frac{1}{3}L_{1} = (-1, 2, 1; 2) + (1, \\frac{1}{3}, \\frac{2}{3}; 2) = (0, \\frac{8}{3}, \\frac{5}{3}; 4) $$\n",
    "<br>\n",
    "$$ Matricialmente \\hspace{4px} [A \\vdots b] \\in R^{mx(n+1)} $$\n",
    "$$ operações \\hspace{4px} elementares \\hspace{4px} à \\hspace{4px} esquerda \\to [U \\vdots c] $$\n",
    "$$ Ux = c \\hspace{4px} é \\hspace{4px} mais \\hspace{4px} fácil \\hspace{4px} de \\hspace{4px} resolver $$"
   ]
  },
  {
   "cell_type": "markdown",
   "metadata": {},
   "source": [
    "=====================================================================================================================\n",
    "\n",
    "$$ 1^{a} coluna: L_{1}\\hspace{4px}é\\hspace{4px}usada\\hspace{4px}como\\hspace{4px}pivô $$\n",
    "\n",
    "$$ é\\hspace{4px}preciso\\hspace{4px}que\\hspace{4px}a_{11}\\neq 0 $$\n",
    "<br>\n",
    "$$ | L_{i} = L_{i} - m_{i1}L_{1} \\\\ a_{i1} \\leftarrow 0 = a_{i1} - m_{i1}a_{i1} \\\\\n",
    "   m_{i1} = \\frac{a_{i1}}{a_{11}} $$\n",
    "   \n",
    "====================================================================================================================="
   ]
  },
  {
   "cell_type": "markdown",
   "metadata": {},
   "source": [
    "$$ 2^{a} coluna: L_{2}\\hspace{4px}é\\hspace{4px}pivô $$\n",
    "\n",
    "$$ L_{3} \\leftarrow L_{3} - m_{32}L_{2} $$\n",
    "$$ m_{32} = \\frac{a_{32}}{a_{22}} $$"
   ]
  },
  {
   "cell_type": "markdown",
   "metadata": {},
   "source": [
    "## Algorítmo da Eliminação Gaussiana\n",
    "\n",
    "$$ Para\\hspace{4px}j = 1:n $$\n",
    "$$ Para\\hspace{4px}i = j+1:m $$\n",
    "$$ m_{ij} = a_{ij}/a_{jj} $$\n",
    "$$ L_{i} \\leftarrow L_{i} - m_{ij}L_{j}; $$"
   ]
  },
  {
   "cell_type": "code",
   "execution_count": 48,
   "metadata": {},
   "outputs": [
    {
     "data": {
      "text/plain": [
       "3×3 Array{Float64,2}:\n",
       "  3.0  1.0  2.0\n",
       " -1.0  2.0  1.0\n",
       "  1.0  1.0  4.0"
      ]
     },
     "execution_count": 48,
     "metadata": {},
     "output_type": "execute_result"
    }
   ],
   "source": [
    "A = [3.0 1 2; -1 2 1; 1 1 4]"
   ]
  },
  {
   "cell_type": "code",
   "execution_count": 49,
   "metadata": {},
   "outputs": [
    {
     "data": {
      "text/plain": [
       "3-element Array{Float64,1}:\n",
       " 6.0\n",
       " 2.0\n",
       " 6.0"
      ]
     },
     "execution_count": 49,
     "metadata": {},
     "output_type": "execute_result"
    }
   ],
   "source": [
    "b = A * ones(3)"
   ]
  },
  {
   "cell_type": "code",
   "execution_count": 50,
   "metadata": {},
   "outputs": [
    {
     "data": {
      "text/plain": [
       "0.0"
      ]
     },
     "execution_count": 50,
     "metadata": {},
     "output_type": "execute_result"
    }
   ],
   "source": [
    "m21 = A[2,1] / A[1,1]\n",
    "m31 = A[3,1] / A[1,1]\n",
    "\n",
    "# L₂ = A[2, :] , L₃ = A[3, :]\n",
    "A[2, 2:end] = A[2, 2:end] - m21 * A[1, 2:end]\n",
    "A[2, 1] = 0.0\n",
    "A[3, 2:end] = A[3, 2:end] - m31 * A[1, 2:end]\n",
    "A[3, 1] = 0.0"
   ]
  },
  {
   "cell_type": "code",
   "execution_count": 51,
   "metadata": {},
   "outputs": [
    {
     "data": {
      "text/plain": [
       "4.0"
      ]
     },
     "execution_count": 51,
     "metadata": {},
     "output_type": "execute_result"
    }
   ],
   "source": [
    "b[2] = b[2] - m21 * b[1]\n",
    "b[3] = b[3] - m31 * b[1]"
   ]
  },
  {
   "cell_type": "code",
   "execution_count": 52,
   "metadata": {},
   "outputs": [
    {
     "data": {
      "text/plain": [
       "3×3 Array{Float64,2}:\n",
       " 3.0  1.0       2.0\n",
       " 0.0  2.33333   1.66667\n",
       " 0.0  0.666667  3.33333"
      ]
     },
     "execution_count": 52,
     "metadata": {},
     "output_type": "execute_result"
    }
   ],
   "source": [
    "A"
   ]
  },
  {
   "cell_type": "code",
   "execution_count": 53,
   "metadata": {},
   "outputs": [
    {
     "data": {
      "text/plain": [
       "3-element Array{Float64,1}:\n",
       " 6.0\n",
       " 4.0\n",
       " 4.0"
      ]
     },
     "execution_count": 53,
     "metadata": {},
     "output_type": "execute_result"
    }
   ],
   "source": [
    "b"
   ]
  },
  {
   "cell_type": "code",
   "execution_count": 54,
   "metadata": {},
   "outputs": [
    {
     "data": {
      "text/plain": [
       "3-element Array{Float64,1}:\n",
       " 1.0\n",
       " 1.0000000000000002\n",
       " 0.9999999999999999"
      ]
     },
     "execution_count": 54,
     "metadata": {},
     "output_type": "execute_result"
    }
   ],
   "source": [
    "A \\ b"
   ]
  },
  {
   "cell_type": "code",
   "execution_count": 55,
   "metadata": {},
   "outputs": [
    {
     "data": {
      "text/plain": [
       "3×3 Array{Float64,2}:\n",
       " 3.0  1.0      2.0\n",
       " 0.0  2.33333  1.66667\n",
       " 0.0  0.0      2.85714"
      ]
     },
     "execution_count": 55,
     "metadata": {},
     "output_type": "execute_result"
    }
   ],
   "source": [
    "m32 = A[3, 2] / A[2, 2]\n",
    "A[3, 3:end] -= m32 * A[2, 3:end]\n",
    "A[3, 2] = 0.0\n",
    "b[3] -= m32 * b[2]\n",
    "\n",
    "A\n",
    "# Pode ser que a matriz obtida pela Eliminação Gaussiana não dê o mesmo resultado que a original\n",
    "# Isso ocorre quando a matriz for mal condicionada"
   ]
  },
  {
   "cell_type": "code",
   "execution_count": 56,
   "metadata": {},
   "outputs": [
    {
     "data": {
      "text/plain": [
       "3-element Array{Float64,1}:\n",
       " 6.0\n",
       " 4.0\n",
       " 2.8571428571428568"
      ]
     },
     "execution_count": 56,
     "metadata": {},
     "output_type": "execute_result"
    }
   ],
   "source": [
    "b"
   ]
  },
  {
   "cell_type": "code",
   "execution_count": 57,
   "metadata": {},
   "outputs": [
    {
     "data": {
      "text/plain": [
       "3-element Array{Float64,1}:\n",
       " 1.0\n",
       " 1.0000000000000002\n",
       " 0.9999999999999999"
      ]
     },
     "execution_count": 57,
     "metadata": {},
     "output_type": "execute_result"
    }
   ],
   "source": [
    "A \\ b"
   ]
  },
  {
   "cell_type": "markdown",
   "metadata": {},
   "source": [
    "## Algorítmo da Eliminação Gaussiana levando em conta a precisão numérica\n",
    "\n",
    "$$ Para\\hspace{4px}j = 1:n $$\n",
    "$$ Para\\hspace{4px}i = j+1:m $$\n",
    "$$ m_{ij} = a_{ij}/a_{jj} $$\n",
    "$$ L_{i}(coluna\\hspace{4px}j+1:n) = L_{i}(j+1:n) - m_{ij}L(j+1:n); $$"
   ]
  },
  {
   "cell_type": "code",
   "execution_count": 77,
   "metadata": {},
   "outputs": [
    {
     "data": {
      "text/plain": [
       "elim_gauss!"
      ]
     },
     "execution_count": 77,
     "metadata": {},
     "output_type": "execute_result"
    }
   ],
   "source": [
    "\"\"\"\n",
    "    elim_gauss!(A, b)\n",
    "\n",
    "Modifica A e b fazendo a eliminação Gaussiana.\n",
    "\"\"\"\n",
    "function elim_gauss!(A, b)\n",
    "    m, n = size(A)\n",
    "    for j = 1:n\n",
    "        cols = j+1:n\n",
    "        for i = j+1:m\n",
    "            mij = A[i, j] / A[j,j]\n",
    "            A[i, cols] -= mij * A[j, cols]\n",
    "            A[i, j] = 0.0\n",
    "            b[i] -= mij * b[j]\n",
    "        end\n",
    "    end\n",
    "end"
   ]
  },
  {
   "cell_type": "code",
   "execution_count": 96,
   "metadata": {},
   "outputs": [
    {
     "data": {
      "text/plain": [
       "5-element Array{Float64,1}:\n",
       " 0.6996879983590749\n",
       " 2.4639876205077096\n",
       " 2.376188644989334\n",
       " 1.6325105758816598\n",
       " 2.5609394710657902"
      ]
     },
     "execution_count": 96,
     "metadata": {},
     "output_type": "execute_result"
    }
   ],
   "source": [
    "A = rand(5, 5)\n",
    "#A[:, 3] = A[:, 2] + 2 * A[:, 5]\n",
    "b = A * ones(5)"
   ]
  },
  {
   "cell_type": "code",
   "execution_count": 97,
   "metadata": {},
   "outputs": [
    {
     "data": {
      "text/plain": [
       "5×5 Array{Float64,2}:\n",
       " 0.027839   0.14625     0.0728412  0.263175  0.189583\n",
       " 0.0499711  0.00832447  0.942036   0.475606  0.98805\n",
       " 0.806317   0.476486    0.319659   0.302839  0.470887\n",
       " 0.0474724  0.701355    0.118131   0.58034   0.185212\n",
       " 0.814596   0.107135    0.167277   0.668382  0.803549"
      ]
     },
     "execution_count": 97,
     "metadata": {},
     "output_type": "execute_result"
    }
   ],
   "source": [
    "A"
   ]
  },
  {
   "cell_type": "code",
   "execution_count": 98,
   "metadata": {},
   "outputs": [],
   "source": [
    "elim_gauss!(A, b)"
   ]
  },
  {
   "cell_type": "code",
   "execution_count": 99,
   "metadata": {},
   "outputs": [
    {
     "data": {
      "text/plain": [
       "5×5 Array{Float64,2}:\n",
       " 0.027839   0.14625     0.0728412   0.263175      0.189583\n",
       " 0.0       -0.254194    0.811286    0.00320572    0.647748\n",
       " 0.0        0.0       -13.7886     -7.36706     -14.6\n",
       " 0.0        0.0         0.0        -0.630187     -0.50729\n",
       " 0.0        0.0         0.0         0.0          -0.0649103"
      ]
     },
     "execution_count": 99,
     "metadata": {},
     "output_type": "execute_result"
    }
   ],
   "source": [
    "A"
   ]
  },
  {
   "cell_type": "code",
   "execution_count": 100,
   "metadata": {},
   "outputs": [
    {
     "data": {
      "text/plain": [
       "5-element Array{Float64,1}:\n",
       "   0.6996879983590749\n",
       "   1.2080455402517043\n",
       " -35.755724512713726\n",
       "  -1.1374772762241303\n",
       "  -0.06491028629416551"
      ]
     },
     "execution_count": 100,
     "metadata": {},
     "output_type": "execute_result"
    }
   ],
   "source": [
    "b"
   ]
  },
  {
   "cell_type": "code",
   "execution_count": 101,
   "metadata": {},
   "outputs": [
    {
     "data": {
      "text/plain": [
       "5-element Array{Float64,1}:\n",
       " 0.9999999999999691\n",
       " 1.000000000000049\n",
       " 0.999999999999941\n",
       " 0.9999999999999243\n",
       " 1.0000000000000941"
      ]
     },
     "execution_count": 101,
     "metadata": {},
     "output_type": "execute_result"
    }
   ],
   "source": [
    "A \\ b"
   ]
  }
 ],
 "metadata": {
  "kernelspec": {
   "display_name": "JuliaPro_v1.5.3-1 1.5.3",
   "language": "julia",
   "name": "juliapro_v1.5.3-1-1.5"
  },
  "language_info": {
   "file_extension": ".jl",
   "mimetype": "application/julia",
   "name": "julia",
   "version": "1.5.3"
  }
 },
 "nbformat": 4,
 "nbformat_minor": 4
}
