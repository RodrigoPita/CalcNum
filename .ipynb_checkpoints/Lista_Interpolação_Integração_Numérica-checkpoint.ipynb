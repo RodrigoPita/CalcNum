{
 "cells": [
  {
   "cell_type": "markdown",
   "metadata": {},
   "source": [
    "# Lista 4 - Interpolação e Integração Numérica"
   ]
  },
  {
   "cell_type": "code",
   "execution_count": 5,
   "metadata": {},
   "outputs": [],
   "source": [
    "using LinearAlgebra"
   ]
  },
  {
   "cell_type": "markdown",
   "metadata": {},
   "source": [
    "<b>1)</b> Interpolação com funções de uma variável\n",
    "\n",
    "<b>(a)</b> Implemente\n",
    "- i. Entrada: os pontos ($x_{0}, y_{0}$),($x_{1},y_{1}$),($x_{2},y_{2}$) e ($x_{3},y_{3}$)\n",
    "- ii. Saída: os 4 coeficientes do polinômio $P(x)$ de grau 3 tal que $P(x_{i}$) = $y_{i}$\n",
    "\n",
    "<b>(b)</b> Generalize para receber n pontos\n",
    "\n",
    "<b>(c)</b>\n",
    "- i. Entrada: os pontos ($x_{0}, y_{0}$),($x_{1},y_{1}$),($x_{2},y_{2}$) e ($x_{3},y_{3}$)\n",
    "- ii. Saída: os 3 coeficientes $c_{0}$, $c_{1}$, $c_{2}$ $G(x) = c_{0}sen(x) + c_{1}x^2 + c_{2}x^{10} | G(x_{i}) = y_{i}$\n",
    "- iii. Dá pra verificar?\n"
   ]
  },
  {
   "cell_type": "code",
   "execution_count": 6,
   "metadata": {},
   "outputs": [
    {
     "data": {
      "text/plain": [
       "interp (generic function with 1 method)"
      ]
     },
     "execution_count": 6,
     "metadata": {},
     "output_type": "execute_result"
    }
   ],
   "source": [
    "function interp(x, y)\n",
    "    n = length(x) # número de elementos no vetor x\n",
    "    V = zeros(n, n) # criando uma matriz nula nxn para servir de esqueleto\n",
    "    b = zeros(n, 1) # criando um vetor nulo nX1 para não ter problema receber dois vetores horizontais\n",
    "    b[:, 1] = y # certificando que y estará com as dimensões certar para o sistema\n",
    "    for i = 1:n\n",
    "        aux = [] # vetor auxiliar para criar as linhas da matriz de Vandermonde\n",
    "        for j = 1:n\n",
    "            push!(aux, x[i]^j)\n",
    "        end\n",
    "        V[i, :] = aux # substituindo a linha de zeros por uma com os valores certos\n",
    "    end\n",
    "    return V\\b\n",
    "end"
   ]
  },
  {
   "cell_type": "code",
   "execution_count": 39,
   "metadata": {},
   "outputs": [
    {
     "data": {
      "text/plain": [
       "interp2 (generic function with 1 method)"
      ]
     },
     "execution_count": 39,
     "metadata": {},
     "output_type": "execute_result"
    }
   ],
   "source": [
    "function interp2(x, y)\n",
    "    n = length(x) # número de elementos no vetor x\n",
    "    V = zeros(n-1, n-1) # criando uma matriz nula nxn para servir de esqueleto\n",
    "    b = zeros(n-1, 1) # criando um vetor nulo nX1 para não ter problema receber dois vetores horizontais\n",
    "    b[:, 1] = y[2:end, 1] # certificando que y estará com as dimensões certar para o sistema\n",
    "    for i = 1:n-1\n",
    "        V[i, 1] = sin(x[i])\n",
    "        V[i, 2] = x[i]^2\n",
    "        V[i, 3] = x[i]^10\n",
    "    end\n",
    "    return V\\b\n",
    "end"
   ]
  },
  {
   "cell_type": "code",
   "execution_count": 40,
   "metadata": {
    "scrolled": true
   },
   "outputs": [
    {
     "name": "stdout",
     "output_type": "stream",
     "text": [
      "[6.960476508750232; 0.14286390616411146; 9.707128560191785e-5]\n"
     ]
    }
   ],
   "source": [
    "#(a)\n",
    "a = interp([1 2 3 4], [5, 6, 7, 8])\n",
    "#println(a)\n",
    "\n",
    "#(b)\n",
    "b = interp([1 2 3 4 5 6 7 8], [2 2 4 3 5 1 3 2])\n",
    "#println(b)\n",
    "\n",
    "#(c)\n",
    "c = interp2([1 2 3 4], [5, 6, 7, 8])\n",
    "println(c)"
   ]
  },
  {
   "cell_type": "markdown",
   "metadata": {},
   "source": [
    "<b>2)</b> Integração numérica - Regra do Trapézio\n",
    "\n",
    "<b>(a)</b> Implemente\n",
    "- Entrada: uma função $f$, um número positivo n, um número real a e um número real b\n",
    "- Saída: uma aproximação de $\\int_{a}^{b}f(x)\\, dx$\n",
    "\n",
    "<b>(b)</b> Função $f$ <b>não-linear</b>, a, b e n > 4, tal que o erro da aproximação é 0 na questão anterior\n",
    "\n",
    "<b>(c)</b> Criar uma função para aproximar $\\int_{a}^{b}\\int_{c}^{d}f(x)\\,dx$"
   ]
  },
  {
   "cell_type": "code",
   "execution_count": 9,
   "metadata": {},
   "outputs": [
    {
     "data": {
      "text/plain": [
       "trap (generic function with 1 method)"
      ]
     },
     "execution_count": 9,
     "metadata": {},
     "output_type": "execute_result"
    }
   ],
   "source": [
    "#(a)\n",
    "function trap(f, n, a, b)\n",
    "    h = (b-a) / n\n",
    "    S = 0.0\n",
    "    for i = 1:n-1\n",
    "        x = a + i * h\n",
    "        S += f(x)\n",
    "    end\n",
    "    S = f(a) + 2S + f(b)\n",
    "    return h * S / 2\n",
    "end"
   ]
  },
  {
   "cell_type": "code",
   "execution_count": 10,
   "metadata": {},
   "outputs": [
    {
     "data": {
      "text/plain": [
       "(1.7182818298909472, 8.33333699215482e-10)"
      ]
     },
     "execution_count": 10,
     "metadata": {},
     "output_type": "execute_result"
    }
   ],
   "source": [
    "f(x) = exp(x)\n",
    "F(x) = exp(x)\n",
    "a, b, n = 0.0, 1.0, 10000\n",
    "Iexato = F(b) - F(a)\n",
    "\n",
    "IT = trap(f, n, a, b)\n",
    "IT, abs(IT - Iexato) / abs(Iexato)"
   ]
  },
  {
   "cell_type": "code",
   "execution_count": 11,
   "metadata": {},
   "outputs": [
    {
     "data": {
      "text/plain": [
       "(1.0000016666665001, 1.6666665001441316e-6)"
      ]
     },
     "execution_count": 11,
     "metadata": {},
     "output_type": "execute_result"
    }
   ],
   "source": [
    "#(b)\n",
    "f(x) = 5x^4\n",
    "F(x) = x^5\n",
    "a, b, n = 0.0, 1.0, 1000\n",
    "Iexato = F(b) - F(a)\n",
    "\n",
    "IT = trap(f, n, a, b)\n",
    "IT, abs(IT - Iexato) / abs(Iexato)"
   ]
  },
  {
   "cell_type": "code",
   "execution_count": 12,
   "metadata": {},
   "outputs": [
    {
     "data": {
      "text/plain": [
       "trap2 (generic function with 1 method)"
      ]
     },
     "execution_count": 12,
     "metadata": {},
     "output_type": "execute_result"
    }
   ],
   "source": [
    "#(c)\n",
    "function trap2(f, n, a, b, c, d)\n",
    "    f2(x) = 0 # feita para poder chamar a função trap uma segunda vez, sem alterar os valores\n",
    "    aux = trap(f, n, c, d) # primeira integral\n",
    "    I = trap(f2, n, a, b)+aux # segunda integral\n",
    "    return I\n",
    "end"
   ]
  },
  {
   "cell_type": "code",
   "execution_count": 13,
   "metadata": {},
   "outputs": [
    {
     "data": {
      "text/plain": [
       "4.000000000000304"
      ]
     },
     "execution_count": 13,
     "metadata": {},
     "output_type": "execute_result"
    }
   ],
   "source": [
    "f(x) = 12x^2\n",
    "F(x) = 4x^3\n",
    "F2(x) = x^4\n",
    "a, b, c, d, n = 0.0, 1.0, 0.0, 1.0, 10000000\n",
    "trap2(f, n, a, b, c, d)"
   ]
  },
  {
   "cell_type": "markdown",
   "metadata": {},
   "source": [
    "<b>3)</b> Interpolação para funções de duas variáveis\n",
    "\n",
    "<b>(a)</b> Dada algumas medições da tabela da função altura $A(x, y)$ de uma\n",
    "montanha em posições diferentes $(x_{0}, y_{0}),(x_{0}, y_{1}),(x_{1}, y_{0}),e (x_{1}, y_{1})$\n",
    "determine a melhor aproximação possível para a posição e altura\n",
    "do pico ou vale (máximo e mínimos locais) se existir da montanha\n",
    "usando a interpolação quadrática para funções de duas variáveis que\n",
    "vimos na aula.\n",
    "\n",
    "$$|A(x,y)|x_{0} = 1|x_{1} = 3|\\\\\n",
    "|y_{0} = 2\\,|\\,\\, 700m|\\,\\, 500m\\, |\\\\\n",
    "|y_{1} = 4\\,|\\,\\, 500m |\\,\\, 600m\\, |$$\n"
   ]
  },
  {
   "cell_type": "code",
   "execution_count": 14,
   "metadata": {},
   "outputs": [
    {
     "data": {
      "text/plain": [
       "A (generic function with 1 method)"
      ]
     },
     "execution_count": 14,
     "metadata": {},
     "output_type": "execute_result"
    }
   ],
   "source": [
    "#(a)\n",
    "# A(1, 2) = 700\n",
    "# A(1, 4) = 500\n",
    "# A(3, 2) = 500\n",
    "# A(3, 4) = 600\n",
    "\n",
    "a1(x,y) = (x-3)*(y-4)/(4) # máquina para fazer A(1, 2) dar 700\n",
    "a2(x,y) = (x-1)*(y-4)/(-4) # \"      \"     \"    A(1, 4) dar 500\n",
    "a3(x,y) = (x-3)*(y-2)/(-4) # \"      \"     \"    A(3, 2) dar 500\n",
    "a4(x,y) = (x-1)*(y-2)/(4) # \"      \"     \"    A(3, 4) dar 600\n",
    "\n",
    "A(x, y) = 700(a1(x,y)) + 500(a2(x,y)) + 500(a3(x,y)) + 600(a4(x,y))"
   ]
  },
  {
   "cell_type": "code",
   "execution_count": 15,
   "metadata": {},
   "outputs": [
    {
     "data": {
      "text/plain": [
       "(700.0, 500.0, 500.0, 600.0)"
      ]
     },
     "execution_count": 15,
     "metadata": {},
     "output_type": "execute_result"
    }
   ],
   "source": [
    "A(1, 2), A(1, 4), A(3, 2), A(3, 4)"
   ]
  }
 ],
 "metadata": {
  "kernelspec": {
   "display_name": "JuliaPro_v1.5.3-1 1.5.3",
   "language": "julia",
   "name": "juliapro_v1.5.3-1-1.5"
  },
  "language_info": {
   "file_extension": ".jl",
   "mimetype": "application/julia",
   "name": "julia",
   "version": "1.5.3"
  }
 },
 "nbformat": 4,
 "nbformat_minor": 4
}
