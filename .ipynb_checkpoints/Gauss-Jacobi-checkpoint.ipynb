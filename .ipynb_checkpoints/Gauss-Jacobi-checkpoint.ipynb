{
 "cells": [
  {
   "cell_type": "markdown",
   "metadata": {},
   "source": [
    "# Gauss-Jacobi\n",
    "Método iterativo de aproximação. Pode ser que não convirja, mas quando converge, é muito mais rápido do que decomposição LU ou Eliminação Gaussiana"
   ]
  },
  {
   "cell_type": "code",
   "execution_count": 17,
   "metadata": {},
   "outputs": [],
   "source": [
    "using LinearAlgebra"
   ]
  },
  {
   "cell_type": "code",
   "execution_count": 18,
   "metadata": {},
   "outputs": [
    {
     "data": {
      "text/plain": [
       "3×3 Array{Float64,2}:\n",
       " -0.804971   0.126468  -0.688175\n",
       "  0.56535    0.79477   -0.987096\n",
       "  0.290716  -1.69134    0.0661778"
      ]
     },
     "execution_count": 18,
     "metadata": {},
     "output_type": "execute_result"
    }
   ],
   "source": [
    "A = randn(3, 3)"
   ]
  },
  {
   "cell_type": "code",
   "execution_count": 19,
   "metadata": {},
   "outputs": [
    {
     "data": {
      "text/plain": [
       "3×1 Array{Float64,2}:\n",
       " 0.9453884248898514\n",
       " 1.5197027985676717\n",
       " 0.5263805380361749"
      ]
     },
     "execution_count": 19,
     "metadata": {},
     "output_type": "execute_result"
    }
   ],
   "source": [
    "b = randn(3, 1)"
   ]
  },
  {
   "cell_type": "code",
   "execution_count": 40,
   "metadata": {},
   "outputs": [
    {
     "data": {
      "text/plain": [
       "gauss_jacobi (generic function with 1 method)"
      ]
     },
     "execution_count": 40,
     "metadata": {},
     "output_type": "execute_result"
    }
   ],
   "source": [
    "function gauss_jacobi(A, b, n)\n",
    "    x = randn(n, 1)  # chute inicial aleatório\n",
    "    D,R = quebra(A)\n",
    "    \n",
    "    for i=1:100\n",
    "        x = inv(D)*(b - R*x)\n",
    "    end\n",
    "    return x # tal que Ax = b (aproximadamente)\n",
    "end"
   ]
  },
  {
   "cell_type": "code",
   "execution_count": 41,
   "metadata": {},
   "outputs": [
    {
     "data": {
      "text/plain": [
       "quebra (generic function with 1 method)"
      ]
     },
     "execution_count": 41,
     "metadata": {},
     "output_type": "execute_result"
    }
   ],
   "source": [
    "function quebra(A)\n",
    "    D = Diagonal(A)\n",
    "    R = A - D\n",
    "    return D,R\n",
    "end"
   ]
  },
  {
   "cell_type": "code",
   "execution_count": 42,
   "metadata": {},
   "outputs": [
    {
     "ename": "LoadError",
     "evalue": "MethodError: no method matching gauss_jacobi(::Array{Float64,2}, ::Array{Float64,2})\nClosest candidates are:\n  gauss_jacobi(::Any, ::Any, !Matched::Any) at In[40]:1",
     "output_type": "error",
     "traceback": [
      "MethodError: no method matching gauss_jacobi(::Array{Float64,2}, ::Array{Float64,2})\nClosest candidates are:\n  gauss_jacobi(::Any, ::Any, !Matched::Any) at In[40]:1",
      "",
      "Stacktrace:",
      " [1] top-level scope at In[42]:1",
      " [2] include_string(::Function, ::Module, ::String, ::String) at .\\loading.jl:1091",
      " [3] execute_code(::String, ::String) at C:\\Users\\rodri\\.julia\\packages\\IJulia\\a1SNk\\src\\execute_request.jl:27",
      " [4] execute_request(::ZMQ.Socket, ::IJulia.Msg) at C:\\Users\\rodri\\.julia\\packages\\IJulia\\a1SNk\\src\\execute_request.jl:86",
      " [5] #invokelatest#1 at .\\essentials.jl:710 [inlined]",
      " [6] invokelatest at .\\essentials.jl:709 [inlined]",
      " [7] eventloop(::ZMQ.Socket) at C:\\Users\\rodri\\.julia\\packages\\IJulia\\a1SNk\\src\\eventloop.jl:8",
      " [8] (::IJulia.var\"#15#18\")() at .\\task.jl:356"
     ]
    }
   ],
   "source": [
    "x = gauss_jacobi(A,b)"
   ]
  },
  {
   "cell_type": "code",
   "execution_count": 43,
   "metadata": {},
   "outputs": [
    {
     "data": {
      "text/plain": [
       "300×1 Array{Float64,2}:\n",
       " -20.007063939691616\n",
       "  -0.007063939691615673\n",
       "  -0.007063939691608567\n",
       "  -0.007063939691619225\n",
       "  -0.007063939691615673\n",
       "  -0.007063939691615673\n",
       "  -0.007063939691615673\n",
       "  -0.00706393969161212\n",
       "  -0.00706393969161212\n",
       "  -0.007063939691615673\n",
       "  -0.007063939691622778\n",
       "  -0.0070639396916050146\n",
       "  -0.007063939691615673\n",
       "   ⋮\n",
       "  -0.007063939691613896\n",
       "  -0.007063939691617449\n",
       "  -0.007063939691613896\n",
       "  -0.007063939691615673\n",
       "  -0.007063939691615673\n",
       "  -0.0070639396916147845\n",
       "  -0.0070639396916147845\n",
       "  -0.0070639396916147845\n",
       "  -0.007063939691613896\n",
       "  -0.007063939691615673\n",
       "  -0.00706393969161434\n",
       "  -0.0070639396916147845"
      ]
     },
     "execution_count": 43,
     "metadata": {},
     "output_type": "execute_result"
    }
   ],
   "source": [
    "A*x"
   ]
  },
  {
   "cell_type": "code",
   "execution_count": 44,
   "metadata": {},
   "outputs": [
    {
     "data": {
      "text/plain": [
       "300×1 Array{Float64,2}:\n",
       " -20.007063939691616\n",
       "  -0.007063939691614883\n",
       "  -0.007063939691614883\n",
       "  -0.007063939691614883\n",
       "  -0.007063939691614883\n",
       "  -0.007063939691614883\n",
       "  -0.007063939691614883\n",
       "  -0.007063939691614883\n",
       "  -0.007063939691614883\n",
       "  -0.007063939691614883\n",
       "  -0.007063939691614883\n",
       "  -0.007063939691614883\n",
       "  -0.007063939691614883\n",
       "   ⋮\n",
       "  -0.007063939691614883\n",
       "  -0.007063939691614883\n",
       "  -0.007063939691614883\n",
       "  -0.007063939691614883\n",
       "  -0.007063939691614883\n",
       "  -0.007063939691614883\n",
       "  -0.007063939691614883\n",
       "  -0.007063939691614883\n",
       "  -0.007063939691614883\n",
       "  -0.007063939691614883\n",
       "  -0.007063939691614883\n",
       "  -0.007063939691614883"
      ]
     },
     "execution_count": 44,
     "metadata": {},
     "output_type": "execute_result"
    }
   ],
   "source": [
    "b"
   ]
  },
  {
   "cell_type": "code",
   "execution_count": 45,
   "metadata": {},
   "outputs": [
    {
     "data": {
      "text/plain": [
       "criacao_do_sistema (generic function with 1 method)"
      ]
     },
     "execution_count": 45,
     "metadata": {},
     "output_type": "execute_result"
    }
   ],
   "source": [
    "# Criação de uma matriz tridiagonal, mais especificamente, a matriz Laplaciana\n",
    "function criacao_do_sistema(n, y_inicial, y_final, tempo_total)\n",
    "    \n",
    "    #n = (tempo_total/h) - 1\n",
    "    h = tempo_total/(n + 1)\n",
    "    A = zeros(n, n)\n",
    "    b = zeros(n, 1)\n",
    "    \n",
    "    # na mão\n",
    "    A[1, 1] = -2\n",
    "    A[1, 2] = 1\n",
    "    \n",
    "    A[n, n] = -2\n",
    "    A[n, n-1] = 1\n",
    "    \n",
    "    b[1, 1] = - 10*h^2 - y_inicial\n",
    "    b[n, 1] = - 10*h^2 - y_final\n",
    "    \n",
    "    for i=2:(n - 1)\n",
    "        A[i, i-1] = 1 # um antes da diagonal\n",
    "        A[i, i] = -2 # diagonal\n",
    "        A[i, i+1] = 1 # um depois da diagonal\n",
    "        b[i, 1] = -10*h^2\n",
    "    end\n",
    "    return A,b\n",
    "end"
   ]
  },
  {
   "cell_type": "code",
   "execution_count": 46,
   "metadata": {},
   "outputs": [],
   "source": [
    "A,b = criacao_do_sistema(300, 20, 0, 8);"
   ]
  },
  {
   "cell_type": "code",
   "execution_count": 47,
   "metadata": {
    "scrolled": false
   },
   "outputs": [
    {
     "data": {
      "text/plain": [
       "300×1 Array{Float64,2}:\n",
       " 20.99314577101798\n",
       " 21.97922760234434\n",
       " 22.95824549397909\n",
       " 23.930199445922227\n",
       " 24.895089458173747\n",
       " 25.85291553073365\n",
       " 26.80367766360194\n",
       " 27.74737585677861\n",
       " 28.68401011026367\n",
       " 29.61358042405712\n",
       " 30.53608679815895\n",
       " 31.45152923256916\n",
       " 32.35990772728776\n",
       "  ⋮\n",
       " 13.046213617951642\n",
       " 11.99788081809289\n",
       " 10.94248407854252\n",
       "  9.880023399300537\n",
       "  8.810498780366938\n",
       "  7.733910221741723\n",
       "  6.650257723424892\n",
       "  5.559541285416447\n",
       "  4.461760907716387\n",
       "  3.356916590324713\n",
       "  2.2450083332414232\n",
       "  1.126036136466519"
      ]
     },
     "execution_count": 47,
     "metadata": {},
     "output_type": "execute_result"
    }
   ],
   "source": [
    "x = A\\b"
   ]
  },
  {
   "cell_type": "code",
   "execution_count": 48,
   "metadata": {},
   "outputs": [
    {
     "data": {
      "text/plain": [
       "(300, 1)"
      ]
     },
     "execution_count": 48,
     "metadata": {},
     "output_type": "execute_result"
    }
   ],
   "source": [
    "size(x)"
   ]
  },
  {
   "cell_type": "code",
   "execution_count": 49,
   "metadata": {},
   "outputs": [
    {
     "data": {
      "text/plain": [
       "90.0323395989051"
      ]
     },
     "execution_count": 49,
     "metadata": {},
     "output_type": "execute_result"
    }
   ],
   "source": [
    "x[150, 1]"
   ]
  },
  {
   "cell_type": "code",
   "execution_count": 50,
   "metadata": {},
   "outputs": [],
   "source": [
    "A1, b1 = criacao_do_sistema(3, 20, 0, 8);"
   ]
  },
  {
   "cell_type": "code",
   "execution_count": 51,
   "metadata": {},
   "outputs": [],
   "source": [
    "A2, b2 = criacao_do_sistema(300, 20, 0, 8);"
   ]
  },
  {
   "cell_type": "code",
   "execution_count": 52,
   "metadata": {},
   "outputs": [],
   "source": [
    "# resolve o sistema pelo método do Julia\n",
    "x1a = A1\\b1 \n",
    "x2a = A2\\b2\n",
    "# tenta resolver, iterando por gauss-jacobi, implementado acima no notebook\n",
    "x1b = gauss_jacobi(A1, b1, 3)\n",
    "x2b = gauss_jacobi(A2, b2, 300);"
   ]
  },
  {
   "cell_type": "code",
   "execution_count": 53,
   "metadata": {},
   "outputs": [
    {
     "data": {
      "text/plain": [
       "3×1 Array{Float64,2}:\n",
       " 75.0\n",
       " 90.0\n",
       " 64.99999999999999"
      ]
     },
     "execution_count": 53,
     "metadata": {},
     "output_type": "execute_result"
    }
   ],
   "source": [
    "x1a # x em n=3 testando o método de resolução de sistemas do Julia"
   ]
  },
  {
   "cell_type": "code",
   "execution_count": 54,
   "metadata": {},
   "outputs": [
    {
     "data": {
      "text/plain": [
       "3×1 Array{Float64,2}:\n",
       " 74.99999999999994\n",
       " 89.99999999999991\n",
       " 64.99999999999994"
      ]
     },
     "execution_count": 54,
     "metadata": {},
     "output_type": "execute_result"
    }
   ],
   "source": [
    "x1b # x em n=3 testando o método de Gauss-Jacobi"
   ]
  },
  {
   "cell_type": "code",
   "execution_count": 55,
   "metadata": {},
   "outputs": [
    {
     "data": {
      "text/plain": [
       "300×1 Array{Float64,2}:\n",
       " 20.99314577101798\n",
       " 21.97922760234434\n",
       " 22.95824549397909\n",
       " 23.930199445922227\n",
       " 24.895089458173747\n",
       " 25.85291553073365\n",
       " 26.80367766360194\n",
       " 27.74737585677861\n",
       " 28.68401011026367\n",
       " 29.61358042405712\n",
       " 30.53608679815895\n",
       " 31.45152923256916\n",
       " 32.35990772728776\n",
       "  ⋮\n",
       " 13.046213617951642\n",
       " 11.99788081809289\n",
       " 10.94248407854252\n",
       "  9.880023399300537\n",
       "  8.810498780366938\n",
       "  7.733910221741723\n",
       "  6.650257723424892\n",
       "  5.559541285416447\n",
       "  4.461760907716387\n",
       "  3.356916590324713\n",
       "  2.2450083332414232\n",
       "  1.126036136466519"
      ]
     },
     "execution_count": 55,
     "metadata": {},
     "output_type": "execute_result"
    }
   ],
   "source": [
    "x2a # x em n=300 testando o método de resolução de sistemas do Julia"
   ]
  },
  {
   "cell_type": "code",
   "execution_count": 56,
   "metadata": {},
   "outputs": [
    {
     "data": {
      "text/plain": [
       "300×1 Array{Float64,2}:\n",
       " 18.47697810055059\n",
       " 16.976026500354802\n",
       " 15.473453932304457\n",
       " 14.051047253307255\n",
       " 12.62565894899736\n",
       " 11.338021838550711\n",
       " 10.033769236663952\n",
       "  8.923923240397261\n",
       "  7.768614489532077\n",
       "  6.86259200365632\n",
       "  5.867533182623063\n",
       "  5.1730182234717095\n",
       "  4.335508918013735\n",
       "  ⋮\n",
       "  0.5392197481074367\n",
       "  0.2429779648715616\n",
       "  0.5055450030630848\n",
       "  0.23157415158589378\n",
       "  0.45196650898388285\n",
       "  0.21025494466877254\n",
       "  0.3763527713354883\n",
       "  0.17510418489576465\n",
       "  0.27686100450039686\n",
       "  0.12207976495782838\n",
       "  0.15188741824560456\n",
       "  0.04705986989758108"
      ]
     },
     "execution_count": 56,
     "metadata": {},
     "output_type": "execute_result"
    }
   ],
   "source": [
    "x2b # x em n=300 testando o método de Gauss-Jacobi"
   ]
  },
  {
   "cell_type": "markdown",
   "metadata": {},
   "source": [
    "Com n = 3, tanto o método do Julia, quanto o Gauss-Jacobi, encontram resultado aproximadamente iguais, como pode ser verificado ao comparar $x_{1a}$(obtido pelo método do Julia) com $x_{1b}$(obtido pelo Gauss-Jacobi). Porém, quando aumenta o n para 300, parece que o Gauss-Jacobi não converge, chegando soluções diferentes ao comparar $x_{2a}$ e $x_{2b}$."
   ]
  }
 ],
 "metadata": {
  "kernelspec": {
   "display_name": "JuliaPro_v1.5.3-1 1.5.3",
   "language": "julia",
   "name": "juliapro_v1.5.3-1-1.5"
  },
  "language_info": {
   "file_extension": ".jl",
   "mimetype": "application/julia",
   "name": "julia",
   "version": "1.5.3"
  }
 },
 "nbformat": 4,
 "nbformat_minor": 4
}
