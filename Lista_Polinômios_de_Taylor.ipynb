{
 "cells": [
  {
   "cell_type": "markdown",
   "metadata": {},
   "source": [
    "# Lista 1 - Polinômios de Taylor"
   ]
  },
  {
   "cell_type": "code",
   "execution_count": 10,
   "metadata": {},
   "outputs": [
    {
     "data": {
      "text/plain": [
       "Plots.GRBackend()"
      ]
     },
     "execution_count": 10,
     "metadata": {},
     "output_type": "execute_result"
    }
   ],
   "source": [
    "using Plots\n",
    "using TaylorSeries\n",
    "gr(size=(600, 400))"
   ]
  },
  {
   "cell_type": "markdown",
   "metadata": {},
   "source": [
    "1. Considere a função f(x) = sen(πx/2) e seja Pn(x) seu polinômio de Taylor\n",
    "de ordem n na origem. Determine n de modo que, para todo 0 ≤ x ≤ 2π, o\n",
    "polinômio Pn(x) seja uma aproximação de f(x) para a qual as 6 primeiras\n",
    "casas decimais são corretas."
   ]
  },
  {
   "cell_type": "code",
   "execution_count": 4,
   "metadata": {},
   "outputs": [
    {
     "data": {
      "text/plain": [
       "f (generic function with 1 method)"
      ]
     },
     "execution_count": 4,
     "metadata": {},
     "output_type": "execute_result"
    }
   ],
   "source": [
    "f(x) = sin(π * x / 2)"
   ]
  },
  {
   "cell_type": "markdown",
   "metadata": {},
   "source": [
    "$$ Pn(x) = f(a) + f'(a)(x - a) + \\frac {f''(a)}{2} (x - a)^2 + \\frac {f''(a)} {3!} (x - a)^3 + ... $$"
   ]
  },
  {
   "cell_type": "code",
   "execution_count": 11,
   "metadata": {},
   "outputs": [
    {
     "data": {
      "text/plain": [
       "P (generic function with 1 method)"
      ]
     },
     "execution_count": 11,
     "metadata": {},
     "output_type": "execute_result"
    }
   ],
   "source": [
    "function P(x, n)\n",
    "    a = 0\n",
    "    if n == 1\n",
    "         return f(a)\n",
    "    end\n",
    "    return (derivative(f(a))/factorial(n-1))*(x-a)^(n-1) + P(x, n-1)\n",
    "end"
   ]
  },
  {
   "cell_type": "code",
   "execution_count": 12,
   "metadata": {},
   "outputs": [
    {
     "ename": "LoadError",
     "evalue": "MethodError: no method matching /(::Calculus.var\"#1#3\"{Float64,Symbol}, ::Int64)\nClosest candidates are:\n  /(!Matched::Missing, ::Number) at missing.jl:115\n  /(!Matched::Union{Int128, Int16, Int32, Int64, Int8, UInt128, UInt16, UInt32, UInt64, UInt8}, ::Union{Int128, Int16, Int32, Int64, Int8, UInt128, UInt16, UInt32, UInt64, UInt8}) at int.jl:92\n  /(!Matched::T, ::T) where T<:Integer at int.jl:90\n  ...",
     "output_type": "error",
     "traceback": [
      "MethodError: no method matching /(::Calculus.var\"#1#3\"{Float64,Symbol}, ::Int64)\nClosest candidates are:\n  /(!Matched::Missing, ::Number) at missing.jl:115\n  /(!Matched::Union{Int128, Int16, Int32, Int64, Int8, UInt128, UInt16, UInt32, UInt64, UInt8}, ::Union{Int128, Int16, Int32, Int64, Int8, UInt128, UInt16, UInt32, UInt64, UInt8}) at int.jl:92\n  /(!Matched::T, ::T) where T<:Integer at int.jl:90\n  ...",
      "",
      "Stacktrace:",
      " [1] P(::Int64, ::Int64) at .\\In[11]:6",
      " [2] top-level scope at In[12]:1",
      " [3] include_string(::Function, ::Module, ::String, ::String) at .\\loading.jl:1091",
      " [4] execute_code(::String, ::String) at C:\\Users\\rodri\\.julia\\packages\\IJulia\\a1SNk\\src\\execute_request.jl:27",
      " [5] execute_request(::ZMQ.Socket, ::IJulia.Msg) at C:\\Users\\rodri\\.julia\\packages\\IJulia\\a1SNk\\src\\execute_request.jl:86",
      " [6] #invokelatest#1 at .\\essentials.jl:710 [inlined]",
      " [7] invokelatest at .\\essentials.jl:709 [inlined]",
      " [8] eventloop(::ZMQ.Socket) at C:\\Users\\rodri\\.julia\\packages\\IJulia\\a1SNk\\src\\eventloop.jl:8",
      " [9] (::IJulia.var\"#15#18\")() at .\\task.jl:356"
     ]
    }
   ],
   "source": [
    "P(2, 2)"
   ]
  },
  {
   "cell_type": "code",
   "execution_count": 14,
   "metadata": {},
   "outputs": [
    {
     "ename": "LoadError",
     "evalue": "MethodError: no method matching diff(::Int64)\nClosest candidates are:\n  diff(!Matched::AbstractRange{T}; dims) where T at multidimensional.jl:851\n  diff(!Matched::SparseArrays.AbstractSparseMatrixCSC; dims) at C:\\buildbot\\worker\\package_win64\\build\\usr\\share\\julia\\stdlib\\v1.5\\SparseArrays\\src\\linalg.jl:1068\n  diff(!Matched::AbstractArray{T,1} where T) at multidimensional.jl:809\n  ...",
     "output_type": "error",
     "traceback": [
      "MethodError: no method matching diff(::Int64)\nClosest candidates are:\n  diff(!Matched::AbstractRange{T}; dims) where T at multidimensional.jl:851\n  diff(!Matched::SparseArrays.AbstractSparseMatrixCSC; dims) at C:\\buildbot\\worker\\package_win64\\build\\usr\\share\\julia\\stdlib\\v1.5\\SparseArrays\\src\\linalg.jl:1068\n  diff(!Matched::AbstractArray{T,1} where T) at multidimensional.jl:809\n  ...",
      "",
      "Stacktrace:",
      " [1] top-level scope at In[14]:1",
      " [2] include_string(::Function, ::Module, ::String, ::String) at .\\loading.jl:1091",
      " [3] execute_code(::String, ::String) at C:\\Users\\rodri\\.julia\\packages\\IJulia\\a1SNk\\src\\execute_request.jl:27",
      " [4] execute_request(::ZMQ.Socket, ::IJulia.Msg) at C:\\Users\\rodri\\.julia\\packages\\IJulia\\a1SNk\\src\\execute_request.jl:86",
      " [5] #invokelatest#1 at .\\essentials.jl:710 [inlined]",
      " [6] invokelatest at .\\essentials.jl:709 [inlined]",
      " [7] eventloop(::ZMQ.Socket) at C:\\Users\\rodri\\.julia\\packages\\IJulia\\a1SNk\\src\\eventloop.jl:8",
      " [8] (::IJulia.var\"#15#18\")() at .\\task.jl:356"
     ]
    }
   ],
   "source": []
  }
 ],
 "metadata": {
  "kernelspec": {
   "display_name": "JuliaPro_v1.5.3-1 1.5.3",
   "language": "julia",
   "name": "juliapro_v1.5.3-1-1.5"
  },
  "language_info": {
   "file_extension": ".jl",
   "mimetype": "application/julia",
   "name": "julia",
   "version": "1.5.3"
  }
 },
 "nbformat": 4,
 "nbformat_minor": 4
}
